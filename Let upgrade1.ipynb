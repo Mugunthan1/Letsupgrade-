{
  "metadata": {
    "language_info": {
      "codemirror_mode": {
        "name": "python",
        "version": 3
      },
      "file_extension": ".py",
      "mimetype": "text/x-python",
      "name": "python",
      "nbconvert_exporter": "python",
      "pygments_lexer": "ipython3",
      "version": "3.8"
    },
    "kernelspec": {
      "name": "python",
      "display_name": "Python (Pyodide)",
      "language": "python"
    }
  },
  "nbformat_minor": 4,
  "nbformat": 4,
  "cells": [
    {
      "cell_type": "code",
      "source": "import numpy as np",
      "metadata": {
        "trusted": true
      },
      "execution_count": 1,
      "outputs": []
    },
    {
      "cell_type": "code",
      "source": "a = np.array([[[10, 11, 13, 22], [23, 7, 20, 14], [31, 11, 33, 17]], [[12, 11, 13, 23], [23, 7, 12, 14], [31, 34, 33, 17]], [[10, 6, 13, 22], [34, 7, 20, 14], [31, 34, 33, 7]]])",
      "metadata": {
        "trusted": true
      },
      "execution_count": 3,
      "outputs": []
    },
    {
      "cell_type": "code",
      "source": "np.sort(a, axis= 2, kind=None, order=None) ",
      "metadata": {
        "trusted": true
      },
      "execution_count": 5,
      "outputs": [
        {
          "execution_count": 5,
          "output_type": "execute_result",
          "data": {
            "text/plain": "array([[[10, 11, 13, 22],\n        [ 7, 14, 20, 23],\n        [11, 17, 31, 33]],\n\n       [[11, 12, 13, 23],\n        [ 7, 12, 14, 23],\n        [17, 31, 33, 34]],\n\n       [[ 6, 10, 13, 22],\n        [ 7, 14, 20, 34],\n        [ 7, 31, 33, 34]]])"
          },
          "metadata": {}
        }
      ]
    },
    {
      "cell_type": "code",
      "source": "np.where(a > 4, a, -1)",
      "metadata": {
        "trusted": true
      },
      "execution_count": 7,
      "outputs": [
        {
          "execution_count": 7,
          "output_type": "execute_result",
          "data": {
            "text/plain": "array([[[10, 11, 13, 22],\n        [23,  7, 20, 14],\n        [31, 11, 33, 17]],\n\n       [[12, 11, 13, 23],\n        [23,  7, 12, 14],\n        [31, 34, 33, 17]],\n\n       [[10,  6, 13, 22],\n        [34,  7, 20, 14],\n        [31, 34, 33,  7]]])"
          },
          "metadata": {}
        }
      ]
    },
    {
      "cell_type": "code",
      "source": "np.where(a < 5, a, 10*a)",
      "metadata": {
        "trusted": true
      },
      "execution_count": 8,
      "outputs": [
        {
          "execution_count": 8,
          "output_type": "execute_result",
          "data": {
            "text/plain": "array([[[100, 110, 130, 220],\n        [230,  70, 200, 140],\n        [310, 110, 330, 170]],\n\n       [[120, 110, 130, 230],\n        [230,  70, 120, 140],\n        [310, 340, 330, 170]],\n\n       [[100,  60, 130, 220],\n        [340,  70, 200, 140],\n        [310, 340, 330,  70]]])"
          },
          "metadata": {}
        }
      ]
    },
    {
      "cell_type": "code",
      "source": "",
      "metadata": {},
      "execution_count": null,
      "outputs": []
    }
  ]
}